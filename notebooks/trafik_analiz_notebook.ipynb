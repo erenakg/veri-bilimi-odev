{
 "cells": [
  {
   "cell_type": "markdown",
   "metadata": {},
   "source": [
    "# İstanbul Trafik Davranış Kalıplarının Analizi\n",
    "\n",
    "Bu Jupyter Notebook, İstanbul'a ait saatlik trafik verilerinin analizi için kullanılacaktır. Proje, trafik davranışlarını kümelendirerek farklı trafik kalıplarını belirlemeyi amaçlamaktadır."
   ]
  },
  {
   "cell_type": "code",
   "execution_count": null,
   "metadata": {
    "id": "import-libraries"
   },
   "outputs": [],
   "source": [
    "# Gerekli kütüphanelerin yüklenmesi\n",
    "import pandas as pd\n",
    "import numpy as np\n",
    "import matplotlib.pyplot as plt\n",
    "import seaborn as sns\n",
    "from sklearn.preprocessing import StandardScaler\n",
    "from sklearn.cluster import KMeans\n",
    "from sklearn.decomposition import PCA\n",
    "import folium\n",
    "from src.data_preprocessing import preprocess_data\n",
    "from src.clustering_analysis import perform_clustering\n",
    "from src.visualization import visualize_clusters\n"
   ]
  },
  {
   "cell_type": "markdown",
   "metadata": {},
   "source": [
    "## Veri Yükleme ve Ön İşleme\n",
    "\n",
    "İlk olarak, ham verileri yükleyecek ve gerekli ön işleme adımlarını gerçekleştireceğiz."
   ]
  },
  {
   "cell_type": "code",
   "execution_count": null,
   "metadata": {
    "id": "data-loading"
   },
   "outputs": [],
   "source": [
    "# Veri yükleme\n",
    "raw_data = pd.read_csv('../data/raw/istanbul_trafik_verisi.csv')\n",
    "\n",
    "# Veri ön işleme\n",
    "cleaned_data = preprocess_data(raw_data)\n",
    "cleaned_data.head()"
   ]
  },
  {
   "cell_type": "markdown",
   "metadata": {},
   "source": [
    "## Kümeleme Analizi\n",
    "\n",
    "Veri setini K-Means algoritması ile kümeleyerek trafik kalıplarını belirleyeceğiz."
   ]
  },
  {
   "cell_type": "code",
   "execution_count": null,
   "metadata": {
    "id": "clustering-analysis"
   },
   "outputs": [],
   "source": [
    "# Kümeleme analizi\n",
    "clusters = perform_clustering(cleaned_data)\n",
    "clusters.head()"
   ]
  },
  {
   "cell_type": "markdown",
   "metadata": {},
   "source": [
    "## Sonuçların Görselleştirilmesi\n",
    "\n",
    "Kümeleme sonuçlarını görselleştirerek harita üzerinde gösterim yapacağız."
   ]
  },
  {
   "cell_type": "code",
   "execution_count": null,
   "metadata": {
    "id": "visualization"
   },
   "outputs": [],
   "source": [
    "# Sonuçların görselleştirilmesi\n",
    "visualize_clusters(clusters)\n"
   ]
  },
  {
   "cell_type": "markdown",
   "metadata": {},
   "source": [
    "## Sonuç\n",
    "\n",
    "Bu notebook, İstanbul trafik verilerinin analizi sürecini belgelemektedir. Elde edilen sonuçlar, trafik yönetimi ve şehir planlaması açısından önemli bilgiler sunmaktadır."
   ]
  }
 ],
 "metadata": {
  "kernelspec": {
   "display_name": "Python 3",
   "language": "python",
   "name": "python3"
  },
  "language_info": {
   "codemirror_mode": {
    "name": "ipython",
    "version": 3
   },
   "file_extension": ".py",
   "mimetype": "text/x-python",
   "name": "python",
   "nbconvert_exporter": "python",
   "pygments_lexer": "ipython3",
   "version": "3.8.5"
  }
 },
 "nbformat": 4,
 "nbformat_minor": 4
}